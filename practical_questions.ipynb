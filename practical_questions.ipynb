{
  "nbformat": 4,
  "nbformat_minor": 0,
  "metadata": {
    "colab": {
      "provenance": []
    },
    "kernelspec": {
      "name": "python3",
      "display_name": "Python 3"
    },
    "language_info": {
      "name": "python"
    }
  },
  "cells": [
    {
      "cell_type": "code",
      "execution_count": null,
      "metadata": {
        "colab": {
          "base_uri": "https://localhost:8080/"
        },
        "id": "n0RXEfAsLCWL",
        "outputId": "b46b1ead-3453-4da9-f028-540e380fc12e"
      },
      "outputs": [
        {
          "output_type": "stream",
          "name": "stdout",
          "text": [
            "Hello World!\n"
          ]
        }
      ],
      "source": [
        "1.#program to print Hello, World!\n",
        "print('Hello, World!')"
      ]
    },
    {
      "cell_type": "code",
      "source": [
        "2.#program that displays your name and age\n",
        "name=input('enter your name')\n",
        "age=(input('enter your age'))\n",
        "print(f'your name is {name},your age is {age}')\n"
      ],
      "metadata": {
        "colab": {
          "base_uri": "https://localhost:8080/"
        },
        "id": "FLAtEy-8NvtH",
        "outputId": "fa2d84ea-f5dd-4424-fc64-93ce26d539bb"
      },
      "execution_count": null,
      "outputs": [
        {
          "output_type": "stream",
          "name": "stdout",
          "text": [
            "enter your namejason\n",
            "enter your age90\n",
            "your name is jason,your age is 90\n"
          ]
        }
      ]
    },
    {
      "cell_type": "code",
      "source": [
        "3.#print all pre-defined keywords using keyword library\n",
        "import keyword\n",
        "keyword_list=keyword.kwlist\n",
        "print('print python predefined keywords:',keyword_list)\n"
      ],
      "metadata": {
        "colab": {
          "base_uri": "https://localhost:8080/"
        },
        "id": "z25S3cvlPFz2",
        "outputId": "9aae5035-431c-4c42-9b6b-aa10c3fc4ec9"
      },
      "execution_count": null,
      "outputs": [
        {
          "output_type": "stream",
          "name": "stdout",
          "text": [
            "print python predefined keywords: ['False', 'None', 'True', 'and', 'as', 'assert', 'async', 'await', 'break', 'class', 'continue', 'def', 'del', 'elif', 'else', 'except', 'finally', 'for', 'from', 'global', 'if', 'import', 'in', 'is', 'lambda', 'nonlocal', 'not', 'or', 'pass', 'raise', 'return', 'try', 'while', 'with', 'yield']\n"
          ]
        }
      ]
    },
    {
      "cell_type": "code",
      "source": [
        "4.#write a program to check if a given word is a python keyword\n",
        "import keyword\n",
        "word=input('enter a word')\n",
        "\n",
        "if keyword.iskeyword(word):\n",
        "  print('python keyword')\n",
        "\n",
        "else:\n",
        "  print(\"not a python keyword\")\n"
      ],
      "metadata": {
        "colab": {
          "base_uri": "https://localhost:8080/"
        },
        "id": "v-nAw55LQDGv",
        "outputId": "d46c0f8e-9084-4555-8ba2-121e017af61b"
      },
      "execution_count": null,
      "outputs": [
        {
          "output_type": "stream",
          "name": "stdout",
          "text": [
            "enter a wordjjjjjjilio\n",
            "not a python keyword\n"
          ]
        }
      ]
    },
    {
      "cell_type": "code",
      "source": [
        "5.\n",
        "#Create a list and tuple in Python, and demonstrate how attempting to change an element works differently\n",
        "#changing a list\n",
        "l1=[1,2,3,4]\n",
        "l1[2]=100\n",
        "print(l1)\n",
        "\n",
        "#changing a tuple\n",
        "t1=(1,2,3,4)\n",
        "l2=list(t1)\n",
        "#we cannot chnage a tuple without converting it tuple"
      ],
      "metadata": {
        "colab": {
          "base_uri": "https://localhost:8080/"
        },
        "id": "H4Fd0mZMhyJN",
        "outputId": "86c33175-8918-4e32-8093-96caed9e2cd7"
      },
      "execution_count": null,
      "outputs": [
        {
          "output_type": "stream",
          "name": "stdout",
          "text": [
            "[1, 2, 100, 4]\n"
          ]
        }
      ]
    },
    {
      "cell_type": "code",
      "source": [
        "6. #demonstrating the behaviour of mutable and immutable arguments\n",
        "#mutable arguments\n",
        "l1=[2,4,6,8]\n",
        "l1[0]=10\n",
        "print(l1)\n",
        "\n",
        "#immutable arguments\n",
        "t1=(1,2,3,4)\n",
        "t1(0)==(10)\n",
        "print(t1)"
      ],
      "metadata": {
        "colab": {
          "base_uri": "https://localhost:8080/",
          "height": 211
        },
        "id": "RofPD6tkjRBf",
        "outputId": "5aa68613-4fff-4409-f86a-af1c63a675d9"
      },
      "execution_count": null,
      "outputs": [
        {
          "output_type": "stream",
          "name": "stdout",
          "text": [
            "[10, 4, 6, 8]\n"
          ]
        },
        {
          "output_type": "error",
          "ename": "TypeError",
          "evalue": "'tuple' object is not callable",
          "traceback": [
            "\u001b[0;31m---------------------------------------------------------------------------\u001b[0m",
            "\u001b[0;31mTypeError\u001b[0m                                 Traceback (most recent call last)",
            "\u001b[0;32m/tmp/ipython-input-2405096957.py\u001b[0m in \u001b[0;36m<cell line: 0>\u001b[0;34m()\u001b[0m\n\u001b[1;32m      7\u001b[0m \u001b[0;31m#immutable arguments\u001b[0m\u001b[0;34m\u001b[0m\u001b[0;34m\u001b[0m\u001b[0m\n\u001b[1;32m      8\u001b[0m \u001b[0mt1\u001b[0m\u001b[0;34m=\u001b[0m\u001b[0;34m(\u001b[0m\u001b[0;36m1\u001b[0m\u001b[0;34m,\u001b[0m\u001b[0;36m2\u001b[0m\u001b[0;34m,\u001b[0m\u001b[0;36m3\u001b[0m\u001b[0;34m,\u001b[0m\u001b[0;36m4\u001b[0m\u001b[0;34m)\u001b[0m\u001b[0;34m\u001b[0m\u001b[0;34m\u001b[0m\u001b[0m\n\u001b[0;32m----> 9\u001b[0;31m \u001b[0mt1\u001b[0m\u001b[0;34m(\u001b[0m\u001b[0;36m0\u001b[0m\u001b[0;34m)\u001b[0m\u001b[0;34m==\u001b[0m\u001b[0;34m(\u001b[0m\u001b[0;36m10\u001b[0m\u001b[0;34m)\u001b[0m\u001b[0;34m\u001b[0m\u001b[0;34m\u001b[0m\u001b[0m\n\u001b[0m\u001b[1;32m     10\u001b[0m \u001b[0mprint\u001b[0m\u001b[0;34m(\u001b[0m\u001b[0mt1\u001b[0m\u001b[0;34m)\u001b[0m\u001b[0;34m\u001b[0m\u001b[0;34m\u001b[0m\u001b[0m\n",
            "\u001b[0;31mTypeError\u001b[0m: 'tuple' object is not callable"
          ]
        }
      ]
    },
    {
      "cell_type": "code",
      "source": [
        "7. #program that performs basic arithmetic operations on two user-input mubers\n",
        "number_1=float(input('enter a number'))\n",
        "number_2=float(input(\"enter a second number\"))\n",
        "\n",
        "sum=number_1+number_2\n",
        "print('the sum of both numbers is:', sum)\n",
        "difference=number_1-number_2\n",
        "print(\"the difference of both numbers is:\", difference)\n",
        "\n",
        "product=number_1*number_2\n",
        "print(\"the product of both numbers is:\", product)\n",
        "\n",
        "remainder=number_1%number_2\n",
        "print(\"the remainder is:\", remainder)\n",
        "\n",
        "quotient=number_1/number_2\n",
        "print(\"the quotient of these numbers is:\", quotient)\n",
        "\n"
      ],
      "metadata": {
        "colab": {
          "base_uri": "https://localhost:8080/"
        },
        "id": "9WcR3xaSlFXP",
        "outputId": "758a8dc8-45ac-4c08-cb83-759b86422f1e"
      },
      "execution_count": null,
      "outputs": [
        {
          "output_type": "stream",
          "name": "stdout",
          "text": [
            "enter a number67\n",
            "enter a second number90\n",
            "the sum of both numbers is: 157.0\n",
            "the difference of both numbers is: -23.0\n",
            "the product of both numbers is: 6030.0\n",
            "the remainder is: 67.0\n",
            "the quotient of these numbers is: 0.7444444444444445\n"
          ]
        }
      ]
    },
    {
      "cell_type": "code",
      "source": [
        "8. #logical operators\n",
        "#and\n",
        "a,b=5,4\n",
        "print(a>4 and b<10)\n",
        "print(a>4 and b<3)\n",
        "#only works if both conditions are true\n",
        "\n",
        "#or\n",
        "a,b=5,4\n",
        "\n",
        "print(a>4 or b<3)\n",
        "#can function if only one condition is true\n",
        "\n",
        "#not\n",
        "a,b=5,4\n",
        "print(not(b))\n",
        "print(not(a))\n",
        "#it reverses a true statement into a false statement\n"
      ],
      "metadata": {
        "colab": {
          "base_uri": "https://localhost:8080/"
        },
        "id": "CNovcriP6xTf",
        "outputId": "253a4b54-86b6-4788-ee39-7613e85e7966"
      },
      "execution_count": null,
      "outputs": [
        {
          "output_type": "stream",
          "name": "stdout",
          "text": [
            "True\n",
            "False\n",
            "True\n",
            "False\n",
            "False\n"
          ]
        }
      ]
    },
    {
      "cell_type": "code",
      "source": [
        "9. #converting a string to an integer,float and bolean\n",
        "your_string=input('enter a value')\n",
        "print(int(your_string))\n",
        "print(float(your_string))\n",
        "print(bool(your_string))\n"
      ],
      "metadata": {
        "colab": {
          "base_uri": "https://localhost:8080/"
        },
        "id": "xYDB4tNW7L1n",
        "outputId": "34a82dcf-07e7-4e6c-8222-5937d02f8f0e"
      },
      "execution_count": null,
      "outputs": [
        {
          "output_type": "stream",
          "name": "stdout",
          "text": [
            "enter a value78\n",
            "78\n",
            "78.0\n",
            "True\n"
          ]
        }
      ]
    },
    {
      "cell_type": "code",
      "source": [
        "10. #type casting of list elements\n",
        "int_a=[1,2,3,4]\n",
        "str_a=[str(x) for x in int_a]\n",
        "float_a=[float(x) for x in int_a]\n",
        "\n",
        "print(float_a)\n",
        "print(str_a)\n"
      ],
      "metadata": {
        "colab": {
          "base_uri": "https://localhost:8080/"
        },
        "id": "4mdoVYZX7WpH",
        "outputId": "65ed2e53-cc95-4d70-a175-29b46e7e2113"
      },
      "execution_count": null,
      "outputs": [
        {
          "output_type": "stream",
          "name": "stdout",
          "text": [
            "[1.0, 2.0, 3.0, 4.0]\n",
            "['1', '2', '3', '4']\n"
          ]
        }
      ]
    },
    {
      "cell_type": "code",
      "source": [
        "11. #code that checks if a number is positive or negative\n",
        "number=float(input(\"enter a number\"))\n",
        "\n",
        "if number<0:\n",
        "    print(\"the number is negative\")\n",
        "\n",
        "else:\n",
        "    print(\"the number is positive\")\n",
        "\n",
        "\n",
        "\n"
      ],
      "metadata": {
        "colab": {
          "base_uri": "https://localhost:8080/"
        },
        "id": "bacyK-ov7qdP",
        "outputId": "4d708814-f23f-46d5-93a4-305344ae8e73"
      },
      "execution_count": null,
      "outputs": [
        {
          "output_type": "stream",
          "name": "stdout",
          "text": [
            "enter a number-9\n",
            "the number is negative\n"
          ]
        }
      ]
    },
    {
      "cell_type": "code",
      "source": [
        "12.#for loop to print numbers from 1 to 10\n",
        "for i in range(1,11):\n",
        "    print(i)\n"
      ],
      "metadata": {
        "colab": {
          "base_uri": "https://localhost:8080/"
        },
        "id": "1Z1rEQQm8SDT",
        "outputId": "69e33937-7d7f-4850-d4e0-cb9372135171"
      },
      "execution_count": null,
      "outputs": [
        {
          "output_type": "stream",
          "name": "stdout",
          "text": [
            "1\n",
            "2\n",
            "3\n",
            "4\n",
            "5\n",
            "6\n",
            "7\n",
            "8\n",
            "9\n",
            "10\n"
          ]
        }
      ]
    },
    {
      "cell_type": "code",
      "source": [
        "13. #sum of even numbers between 1 and 50\n",
        "x=list(range(1,51))\n",
        "\n",
        "print(x)\n",
        "total=0\n",
        "for num in x:\n",
        "    if num%2==0:\n",
        "        total=total+num\n",
        "\n",
        "print('the sum of even number between 1 and 50 is:',total)\n",
        "\n"
      ],
      "metadata": {
        "colab": {
          "base_uri": "https://localhost:8080/"
        },
        "id": "9TV4BXxn8uB9",
        "outputId": "29c27b6b-3205-49c6-82da-831de9b1cfda"
      },
      "execution_count": null,
      "outputs": [
        {
          "output_type": "stream",
          "name": "stdout",
          "text": [
            "[1, 2, 3, 4, 5, 6, 7, 8, 9, 10, 11, 12, 13, 14, 15, 16, 17, 18, 19, 20, 21, 22, 23, 24, 25, 26, 27, 28, 29, 30, 31, 32, 33, 34, 35, 36, 37, 38, 39, 40, 41, 42, 43, 44, 45, 46, 47, 48, 49, 50]\n",
            "the sum of even number between 1 and 50 is: 650\n"
          ]
        }
      ]
    },
    {
      "cell_type": "code",
      "source": [
        "14. #reversing a string using a while loop\n",
        "word=\"jason\"\n",
        "print(word)\n",
        "\n",
        "reversed_word=('')\n",
        "i=len(word)-1\n",
        "\n",
        "while i>=0:\n",
        "    reversed_word=reversed_word+word[i]\n",
        "    i=i-1\n",
        "\n",
        "print(\"reversed word:\",reversed_word)\n"
      ],
      "metadata": {
        "id": "MCfuLRvF86Y8"
      },
      "execution_count": null,
      "outputs": []
    },
    {
      "cell_type": "code",
      "source": [
        "15. # program to calculate the factorial of a given number\n",
        "num = int(input(\"Enter a number to find its factorial: \"))\n",
        "\n",
        "factorial = 1\n",
        "\n",
        "while num > 1:\n",
        "    factorial *= num\n",
        "    num -= 1\n",
        "\n",
        "print(\"Factorial is:\", factorial)\n",
        "\n"
      ],
      "metadata": {
        "colab": {
          "base_uri": "https://localhost:8080/"
        },
        "id": "TxSWEaXu9C1T",
        "outputId": "0bd8cd67-09a7-4e2b-f933-70bae0ecfd0b"
      },
      "execution_count": null,
      "outputs": [
        {
          "output_type": "stream",
          "name": "stdout",
          "text": [
            "Enter a number to find its factorial: 67\n",
            "Factorial is: 36471110918188685288249859096605464427167635314049524593701628500267962436943872000000000000000\n"
          ]
        }
      ]
    }
  ]
}