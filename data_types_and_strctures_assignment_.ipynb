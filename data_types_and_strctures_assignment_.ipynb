{
  "nbformat": 4,
  "nbformat_minor": 0,
  "metadata": {
    "colab": {
      "provenance": []
    },
    "kernelspec": {
      "name": "python3",
      "display_name": "Python 3"
    },
    "language_info": {
      "name": "python"
    }
  },
  "cells": [
    {
      "cell_type": "markdown",
      "source": [
        "Data TYpes and Structures Assignmnent\n"
      ],
      "metadata": {
        "id": "5TPCJhif9u9G"
      }
    },
    {
      "cell_type": "markdown",
      "source": [
        "1.What are data structures, and why are they important?\n",
        "\n",
        "Data structures refer to how data is stored and organised.these are containers used to store data.\n",
        "\n",
        "importance:-\n",
        "a)they store data\n",
        "b)they help to organise data\n"
      ],
      "metadata": {
        "id": "Qw8xWpyV-kSO"
      }
    },
    {
      "cell_type": "markdown",
      "source": [
        "2.Explain the difference between mutable and immutable data types with example.\n",
        "\n",
        "mutable data is chnageable data or can be later modified e.g list\n",
        "immutable data is unchnageable or cannot be modified e.g tuple."
      ],
      "metadata": {
        "id": "9q2aYNci-or0"
      }
    },
    {
      "cell_type": "markdown",
      "source": [
        "3. What are the main differences between lists and tuples in Python?\n",
        "\n",
        "lists are mutable while tuples in python are immutable"
      ],
      "metadata": {
        "id": "tHAfjpHr9v2j"
      }
    },
    {
      "cell_type": "markdown",
      "source": [
        "4. Describe how dictionaries store data\n",
        "\n",
        "they store the data in the form of key value pair."
      ],
      "metadata": {
        "id": "IUg4iFJYClF9"
      }
    },
    {
      "cell_type": "markdown",
      "source": [
        "5. Why might you use a set instead of a list in Python?\n",
        "\n",
        "a set will give me the unique elements in a data with duplicated elements yet a list will give me the duplicated elements too. so incase i want the elemnts in the data set its best to use sets.\n"
      ],
      "metadata": {
        "id": "rbo6dXrHFLhq"
      }
    },
    {
      "cell_type": "markdown",
      "source": [
        "6. What is a string in Python, and how is it different from a list?\n",
        "\n",
        "a string is a sequnce of characters under enclosed quotes ' ' while a list is heterogenous meaning it can consist of both numbers and charcters[]\n"
      ],
      "metadata": {
        "id": "xMp-gnCGGQBi"
      }
    },
    {
      "cell_type": "markdown",
      "source": [
        "7. How do tuples ensure data integrity in Python?\n",
        "\n",
        "its immutable nature makes sure that the data cannot be tampered with hence ensuring integrity. tuples work best for storing senstive information such as account numbers\n"
      ],
      "metadata": {
        "id": "KHMdYMo4HOuZ"
      }
    },
    {
      "cell_type": "markdown",
      "source": [
        "8.  What is a hash table, and how does it relate to dictionaries in Python?\n",
        "\n",
        "its a data structre that allows you to store and retrieve data typically in constant time using the hash function"
      ],
      "metadata": {
        "id": "qC85YdcIIAp2"
      }
    },
    {
      "cell_type": "markdown",
      "source": [
        "9. Can lists contain different data types in Python?\n",
        "\n",
        "integer\n",
        "string\n",
        "float\n",
        "boolean\n",
        "list\n",
        "dictionary"
      ],
      "metadata": {
        "id": "R2ZYedk2zqVI"
      }
    },
    {
      "cell_type": "markdown",
      "source": [
        "10.  Explain why strings are immutable in Python?\n",
        "\n",
        "strings are immutable because any changes made to the inputed string automatically creates a new string."
      ],
      "metadata": {
        "id": "vlS0UIW50swy"
      }
    },
    {
      "cell_type": "markdown",
      "source": [
        "11. What advantages do dictionaries offer over lists for certain tasks?\n",
        "\n",
        "dictionary keys are unique in that they automatically prevent duplicate entries for the same key. lists can contain duplicates which means u have to check manually\n"
      ],
      "metadata": {
        "id": "DY3xsSe61qw1"
      }
    },
    {
      "cell_type": "markdown",
      "source": [
        "12. Describe a scenario where using a tuple would be preferable over a list?\n",
        "\n",
        "if i require sensitive information from a user, it could be stored as a tuple to avoid its corruption or manipulation which is possible in lists. for example if i ask a user to enter their gmail password, i would require the exact match which a list may be less integral..\n"
      ],
      "metadata": {
        "id": "79I5E6R92jce"
      }
    },
    {
      "cell_type": "markdown",
      "source": [
        "13.  How do sets handle duplicate values in Python?\n",
        "\n",
        "sets automatically eliminate duplicate value to capture unique elements only."
      ],
      "metadata": {
        "id": "4KcoKp3I3Fr3"
      }
    },
    {
      "cell_type": "markdown",
      "source": [
        "14.  How does the “in” keyword work differently for lists and dictionaries?\n",
        "\n",
        "the 'in' keyword in lists checks whether the value exists in the list while in dictionary it checks if the key exists not values."
      ],
      "metadata": {
        "id": "vK3tIa6C3bd4"
      }
    },
    {
      "cell_type": "markdown",
      "source": [
        "15. Can you modify the elements of a tuple? Explain why or why not?\n",
        "\n",
        "no because it is immutable"
      ],
      "metadata": {
        "id": "f0VogmMj4UI5"
      }
    },
    {
      "cell_type": "markdown",
      "source": [
        "16. What is a nested dictionary, and give an example of its use case?\n",
        "\n",
        "A nested dictionary in Python is a dictionary that contains another dictionary (or dictionaries) as its values.\n",
        "\n",
        "students = {\n",
        "    \"Alice\": {\"Math\": 90, \"Science\": 85, \"English\": 92},\n",
        "    \"Bob\": {\"Math\": 78, \"Science\": 82, \"English\": 88},\n",
        "    \"Charlie\": {\"Math\": 95, \"Science\": 89, \"English\": 91}\n",
        "}\n",
        "\n",
        "#Access Alice's Science grade\n",
        "print(students[\"Alice\"][\"Science\"])  # Output: 85\n",
        "\n",
        "#Add a new subject for Bob\n",
        "students[\"Bob\"][\"History\"] = 80\n",
        "\n",
        "#Print the updated dictionary\n",
        "print(students)\n"
      ],
      "metadata": {
        "id": "pagR-lA94asi"
      }
    },
    {
      "cell_type": "markdown",
      "source": [
        "17. Describe the time complexity of accessing elements in a dictionary?\n",
        "\n",
        "Accessing elements in a Python dictionary is generally very fast because dictionaries are implemented using hash tables."
      ],
      "metadata": {
        "id": "vxFojnz-5D0s"
      }
    },
    {
      "cell_type": "markdown",
      "source": [
        "18.  In what situations are lists preferred over dictionaries?\n",
        "\n",
        "Use lists when you care about order, indices, duplicates, or simple sequential collections. while dictionaries when you need fast access by unique keys or associative mapping.\n"
      ],
      "metadata": {
        "id": "yaFiCoRG5ctp"
      }
    },
    {
      "cell_type": "markdown",
      "source": [
        "19. Why are dictionaries considered unordered, and how does that affect data retrieval?\n",
        "\n",
        "Dictionaries in Python are considered unordered because, internally, they are implemented as hash tables, which store key-value pairs based on the hash of the key, not in a sequential order."
      ],
      "metadata": {
        "id": "x9zQ6P_o580T"
      }
    },
    {
      "cell_type": "markdown",
      "source": [
        "20.  Explain the difference between a list and a dictionary in terms of data retrieval?\n",
        "\n",
        "dictionaries use key to acess to retrieve data which allows them to access diiferent elements while lists use indexing to access or retrieve their data.\n",
        "\n"
      ],
      "metadata": {
        "id": "15THKou_8J1V"
      }
    },
    {
      "cell_type": "markdown",
      "source": [
        "Practical Questions"
      ],
      "metadata": {
        "id": "i-m7gi1m9y6w"
      }
    },
    {
      "cell_type": "code",
      "source": [
        "#1. write a code to create a string with your name and print it.\n",
        "name='Jason Kunene'\n",
        "print(name)"
      ],
      "metadata": {
        "colab": {
          "base_uri": "https://localhost:8080/"
        },
        "id": "wIdb53oI96lm",
        "outputId": "0b7181fd-204f-4c87-aa33-9725f3ce2cae"
      },
      "execution_count": null,
      "outputs": [
        {
          "output_type": "stream",
          "name": "stdout",
          "text": [
            "Jason Kunene\n"
          ]
        }
      ]
    },
    {
      "cell_type": "code",
      "source": [
        "#2.Write a code to find the length of the string \"Hello World\"\n",
        "str=\"Hello World\"\n",
        "print(\"the lenght of the string is\",len(str))"
      ],
      "metadata": {
        "colab": {
          "base_uri": "https://localhost:8080/"
        },
        "id": "dysC3Ib9-wOj",
        "outputId": "cc050935-aba9-41af-ed30-a197f23d5f82"
      },
      "execution_count": null,
      "outputs": [
        {
          "output_type": "stream",
          "name": "stdout",
          "text": [
            "the lenght of the string is 11\n"
          ]
        }
      ]
    },
    {
      "cell_type": "code",
      "source": [
        "#3. Write a code to slice the first 3 characters from the string \"Python Programming\"\n",
        "word=\"Python Programming\"\n",
        "print(word[0:3])"
      ],
      "metadata": {
        "colab": {
          "base_uri": "https://localhost:8080/"
        },
        "id": "TJVnrxi9_Vv9",
        "outputId": "828fcea4-3e7d-453a-b9e9-aa70f3c8545c"
      },
      "execution_count": null,
      "outputs": [
        {
          "output_type": "stream",
          "name": "stdout",
          "text": [
            "Pyt\n"
          ]
        }
      ]
    },
    {
      "cell_type": "code",
      "source": [
        "#4. Write a code to convert the string \"hello\" to uppercase.\n",
        "word='hello'\n",
        "print(word.upper())"
      ],
      "metadata": {
        "colab": {
          "base_uri": "https://localhost:8080/"
        },
        "id": "0GIKeqmFACUQ",
        "outputId": "ac557b34-18a3-40f4-8c0a-5279ff011409"
      },
      "execution_count": null,
      "outputs": [
        {
          "output_type": "stream",
          "name": "stdout",
          "text": [
            "HELLO\n"
          ]
        }
      ]
    },
    {
      "cell_type": "code",
      "source": [
        "#5. Write a code to replace the word \"apple\" with \"orange\" in the string \"I like apple\"\n",
        "word=\"i like apple\"\n",
        "print(word.replace(\"apple\",\"orange\"))\n"
      ],
      "metadata": {
        "colab": {
          "base_uri": "https://localhost:8080/"
        },
        "id": "pF9ZSXayA9ST",
        "outputId": "ce9c8106-3f54-46f9-f9bc-250f250e084f"
      },
      "execution_count": null,
      "outputs": [
        {
          "output_type": "stream",
          "name": "stdout",
          "text": [
            "i like orange\n"
          ]
        }
      ]
    },
    {
      "cell_type": "code",
      "source": [
        "#6. Write a code to create a list with numbers 1 to 5 and print it\n",
        "list=[1,2,3,4,5]\n",
        "print(list)"
      ],
      "metadata": {
        "colab": {
          "base_uri": "https://localhost:8080/"
        },
        "id": "DoCtbjkmBrkT",
        "outputId": "9199ca88-cb27-49ef-8065-7ac286a011f2"
      },
      "execution_count": null,
      "outputs": [
        {
          "output_type": "stream",
          "name": "stdout",
          "text": [
            "[1, 2, 3, 4, 5]\n"
          ]
        }
      ]
    },
    {
      "cell_type": "code",
      "source": [
        "#7.Write a code to append the number 10 to the list [1, 2, 3, 4]\n",
        "list=[1,2,3,4,5]\n",
        "list.append(10)\n",
        "print(list)"
      ],
      "metadata": {
        "colab": {
          "base_uri": "https://localhost:8080/"
        },
        "id": "3fOqo8J7CiLq",
        "outputId": "fe88b157-3f92-4ee7-d1eb-f32d1f01997c"
      },
      "execution_count": null,
      "outputs": [
        {
          "output_type": "stream",
          "name": "stdout",
          "text": [
            "[1, 2, 3, 4, 5, 10]\n"
          ]
        }
      ]
    },
    {
      "cell_type": "code",
      "source": [
        "#8. Write a code to remove the number 3 from the list [1, 2, 3, 4, 5]\n",
        "list=[1,2,3,4,5]\n",
        "list.remove(3)\n",
        "print(list)"
      ],
      "metadata": {
        "colab": {
          "base_uri": "https://localhost:8080/"
        },
        "id": "dpEqPuHPDc9K",
        "outputId": "00b7cdd0-8ac2-44e7-eba0-4002c6239c84"
      },
      "execution_count": null,
      "outputs": [
        {
          "output_type": "stream",
          "name": "stdout",
          "text": [
            "[1, 2, 4, 5]\n"
          ]
        }
      ]
    },
    {
      "cell_type": "code",
      "source": [
        "#9. Write a code to access the second element in the list ['a', 'b', 'c', 'd']\n",
        "letters=['a','b','c','d']\n",
        "print(letters[1])"
      ],
      "metadata": {
        "colab": {
          "base_uri": "https://localhost:8080/"
        },
        "id": "fLQ-m6FaD9xh",
        "outputId": "1a89bef2-e9fc-4b9d-d374-5655f9c0c5d0"
      },
      "execution_count": null,
      "outputs": [
        {
          "output_type": "stream",
          "name": "stdout",
          "text": [
            "b\n"
          ]
        }
      ]
    },
    {
      "cell_type": "code",
      "source": [
        "#10. Write a code to reverse the list [10, 20, 30, 40, 50]\n",
        "list=[10,20,30,40,50]\n",
        "list.reverse()\n",
        "print(list)\n"
      ],
      "metadata": {
        "colab": {
          "base_uri": "https://localhost:8080/"
        },
        "id": "xvjToghuEgVK",
        "outputId": "52ae2b74-b63c-4d17-a6b5-54b5e51cb29a"
      },
      "execution_count": null,
      "outputs": [
        {
          "output_type": "stream",
          "name": "stdout",
          "text": [
            "[50, 40, 30, 20, 10]\n"
          ]
        }
      ]
    },
    {
      "cell_type": "code",
      "source": [
        "#11.  Write a code to create a tuple with the elements 100, 200, 300 and print it\n",
        "Tuple1=(100,200,300)\n",
        "print(type(Tuple1))\n",
        "print(Tuple1)"
      ],
      "metadata": {
        "id": "65w6a4R1II-k",
        "colab": {
          "base_uri": "https://localhost:8080/"
        },
        "outputId": "6454c891-55fb-43d3-a1c1-c079e045be44"
      },
      "execution_count": null,
      "outputs": [
        {
          "output_type": "stream",
          "name": "stdout",
          "text": [
            "<class 'tuple'>\n",
            "(100, 200, 300)\n"
          ]
        }
      ]
    },
    {
      "cell_type": "code",
      "source": [
        "#12. Write a code to access the second-to-last element of the tuple ('red', 'green', 'blue', 'yellow')\n",
        "colours=('red','green','blue','yellow')\n",
        "colours[1:4]"
      ],
      "metadata": {
        "colab": {
          "base_uri": "https://localhost:8080/"
        },
        "id": "v5gcPJ8egva3",
        "outputId": "6b1f404f-c582-4c4f-af23-256695da37cc"
      },
      "execution_count": null,
      "outputs": [
        {
          "output_type": "execute_result",
          "data": {
            "text/plain": [
              "('green', 'blue', 'yellow')"
            ]
          },
          "metadata": {},
          "execution_count": 2
        }
      ]
    },
    {
      "cell_type": "code",
      "source": [
        "#13.  Write a code to find the minimum number in the tuple (10, 20, 5, 15).\n",
        "T=(10,20,5,15)\n",
        "print(min(T))\n",
        "print(type(T))"
      ],
      "metadata": {
        "id": "oNrxlQGVh5DC",
        "colab": {
          "base_uri": "https://localhost:8080/"
        },
        "outputId": "926c22f3-0bfb-455d-886b-6d78d82fa9fd"
      },
      "execution_count": null,
      "outputs": [
        {
          "output_type": "stream",
          "name": "stdout",
          "text": [
            "5\n",
            "<class 'tuple'>\n"
          ]
        }
      ]
    },
    {
      "cell_type": "code",
      "source": [
        "#14.  Write a code to find the index of the element \"cat\" in the tuple ('dog', 'cat', 'rabbit').\n",
        "pets=('dog', 'cat', 'rabbit')\n",
        "print(pets.index('cat'))"
      ],
      "metadata": {
        "colab": {
          "base_uri": "https://localhost:8080/"
        },
        "id": "PeZ_ybGAbRa8",
        "outputId": "1ac231d0-12d8-4fcc-cba1-f326e0ecd3a7"
      },
      "execution_count": null,
      "outputs": [
        {
          "output_type": "stream",
          "name": "stdout",
          "text": [
            "1\n"
          ]
        }
      ]
    },
    {
      "cell_type": "code",
      "source": [
        "#15.  Write a code to create a tuple containing three different fruits and check if \"kiwi\" is in it.\n",
        "fruits=('banana','apple','pair')\n",
        "\n",
        "if ('kiwi') in fruits:\n",
        "  print('contains kiwi')\n",
        "\n",
        "else:\n",
        "  print('does not contain kiwi')\n"
      ],
      "metadata": {
        "colab": {
          "base_uri": "https://localhost:8080/"
        },
        "id": "V2DPlq7nd8Tq",
        "outputId": "bba9f87b-13ab-400f-c92d-448d1fc10dbe"
      },
      "execution_count": null,
      "outputs": [
        {
          "output_type": "stream",
          "name": "stdout",
          "text": [
            "does not contain kiwi\n"
          ]
        }
      ]
    },
    {
      "cell_type": "code",
      "source": [
        "#16.Write a code to create a set with the elements 'a', 'b', 'c' and print it\n",
        "\n",
        "letters={'a','b','c'}\n",
        "print(letters)\n"
      ],
      "metadata": {
        "colab": {
          "base_uri": "https://localhost:8080/"
        },
        "id": "K7R1-bXMgvsb",
        "outputId": "b9cdb3d2-5d6a-4440-eff1-4dc88242a46e"
      },
      "execution_count": null,
      "outputs": [
        {
          "output_type": "stream",
          "name": "stdout",
          "text": [
            "{'a', 'b', 'c'}\n"
          ]
        }
      ]
    },
    {
      "cell_type": "code",
      "source": [
        "#17. Write a code to clear all elements from the set {1, 2, 3, 4, 5}.\n",
        "numbers={1,2,3,4,5}\n",
        "numbers.clear()"
      ],
      "metadata": {
        "id": "jPcjpDNfhl2z"
      },
      "execution_count": null,
      "outputs": []
    },
    {
      "cell_type": "code",
      "source": [
        "#18.  Write a code to remove the element 4 from the set {1, 2, 3, 4}\n",
        "numbers={1,2,3,4}\n",
        "numbers.remove(4)\n",
        "print(numbers)"
      ],
      "metadata": {
        "colab": {
          "base_uri": "https://localhost:8080/"
        },
        "id": "H6jBPNsyiNUj",
        "outputId": "4e3009e8-ce02-43d8-f785-220bd937bc7a"
      },
      "execution_count": null,
      "outputs": [
        {
          "output_type": "stream",
          "name": "stdout",
          "text": [
            "{1, 2, 3}\n"
          ]
        }
      ]
    },
    {
      "cell_type": "code",
      "source": [
        "#19.  Write a code to find the union of two sets {1, 2, 3} and {3, 4, 5}.\n",
        "set1={1,2,3}\n",
        "set2={3,4,5}\n",
        "print(set1|set2)"
      ],
      "metadata": {
        "colab": {
          "base_uri": "https://localhost:8080/"
        },
        "id": "TDDkZJfemOYk",
        "outputId": "beabbe82-ad5d-4495-e1a6-d70cf693a6cb"
      },
      "execution_count": null,
      "outputs": [
        {
          "output_type": "stream",
          "name": "stdout",
          "text": [
            "{1, 2, 3, 4, 5}\n"
          ]
        }
      ]
    },
    {
      "cell_type": "code",
      "source": [
        "#20. Write a code to find the intersection of two sets {1, 2, 3} and {2, 3, 4}\n",
        "set_A={1,2,3}\n",
        "set_B={2,3,4}\n",
        "print(set_A & set_B)\n"
      ],
      "metadata": {
        "colab": {
          "base_uri": "https://localhost:8080/"
        },
        "id": "-CUYKzyqitcn",
        "outputId": "5f1da7e6-0459-44af-92ba-e3d763d5b941"
      },
      "execution_count": null,
      "outputs": [
        {
          "output_type": "stream",
          "name": "stdout",
          "text": [
            "{2, 3}\n"
          ]
        }
      ]
    },
    {
      "cell_type": "code",
      "source": [
        "#21. Write a code to create a dictionary with the keys \"name\", \"age\", and \"city\", and print it\n",
        "info={'name':'Jason','age':'20','city':'M/lore'}\n",
        "print(info)"
      ],
      "metadata": {
        "colab": {
          "base_uri": "https://localhost:8080/"
        },
        "id": "ARvdRPTfj5YQ",
        "outputId": "6cb43a06-530d-4c66-deff-fc5de218f52c"
      },
      "execution_count": null,
      "outputs": [
        {
          "output_type": "stream",
          "name": "stdout",
          "text": [
            "{'name': 'Jason', 'age': '20', 'city': 'M/lore'}\n"
          ]
        }
      ]
    },
    {
      "cell_type": "code",
      "source": [
        "#22.Write a code to add a new key-value pair \"country\": \"USA\" to the dictionary {'name': 'John', 'age': 25}\n",
        "d={'name':'John','age':25}\n",
        "d['country']='USA'\n",
        "print(d)"
      ],
      "metadata": {
        "colab": {
          "base_uri": "https://localhost:8080/"
        },
        "id": "4ozXyorClxfD",
        "outputId": "109f45f0-03df-4ae9-b367-a8004da680c9"
      },
      "execution_count": null,
      "outputs": [
        {
          "output_type": "stream",
          "name": "stdout",
          "text": [
            "{'name': 'John', 'age': 25, 'country': 'USA'}\n"
          ]
        }
      ]
    },
    {
      "cell_type": "code",
      "source": [
        "#23. Write a code to access the value associated with the key \"name\" in the dictionary {'name': 'Alice', 'age': 30}.\n",
        "d={'name':'Alice','age':30}\n",
        "print(d['name'])"
      ],
      "metadata": {
        "colab": {
          "base_uri": "https://localhost:8080/"
        },
        "id": "eaCWykHpntIn",
        "outputId": "a3fb93f0-13fc-47ce-9360-f47772916b4c"
      },
      "execution_count": null,
      "outputs": [
        {
          "output_type": "stream",
          "name": "stdout",
          "text": [
            "Alice\n"
          ]
        }
      ]
    },
    {
      "cell_type": "code",
      "source": [
        "#24. Write a code to remove the key \"age\" from the dictionary {'name': 'Bob', 'age': 22, 'city': 'New York'}\n",
        "d2={'name':'Bob','age':22,'city':'New York'}\n",
        "del d2['age']\n",
        "print(d2)"
      ],
      "metadata": {
        "colab": {
          "base_uri": "https://localhost:8080/"
        },
        "id": "0q_ExBVurZxQ",
        "outputId": "a2562426-0ee2-439f-f33b-9895f5885d04"
      },
      "execution_count": null,
      "outputs": [
        {
          "output_type": "stream",
          "name": "stdout",
          "text": [
            "{'name': 'Bob', 'city': 'New York'}\n"
          ]
        }
      ]
    },
    {
      "cell_type": "code",
      "source": [
        "#25.  Write a code to check if the key \"city\" exists in the dictionary {'name': 'Alice', 'city': 'Paris'}.\n",
        "d3={'name':'Alice','city':'Paris'}\n",
        "print(d2.keys())"
      ],
      "metadata": {
        "colab": {
          "base_uri": "https://localhost:8080/"
        },
        "id": "2HB75FHPsd7S",
        "outputId": "90a2491c-b0bf-45c2-e3e8-0859e14348ee"
      },
      "execution_count": null,
      "outputs": [
        {
          "output_type": "stream",
          "name": "stdout",
          "text": [
            "dict_keys(['name', 'city'])\n"
          ]
        }
      ]
    },
    {
      "cell_type": "code",
      "source": [
        "#26. Write a code to create a list, a tuple, and a dictionary, and print them all\n",
        "#list\n",
        "l1=[1,2,3,4,5]\n",
        "print('list:',l1)\n",
        "#tuple\n",
        "t1=(1,2,3,4)\n",
        "print(\"tuple:\",t1 )\n",
        "#dictionary\n",
        "d1={'age':87,\"pin\":1234}\n",
        "print('dictionary:',d1)"
      ],
      "metadata": {
        "colab": {
          "base_uri": "https://localhost:8080/"
        },
        "id": "ki7M7LxTtfrY",
        "outputId": "f0c2aa27-3856-46bc-948e-ff0e363861e3"
      },
      "execution_count": null,
      "outputs": [
        {
          "output_type": "stream",
          "name": "stdout",
          "text": [
            "list: [1, 2, 3, 4, 5]\n",
            "tuple: (1, 2, 3, 4)\n",
            "dictionary: {'age': 87, 'pin': 1234}\n"
          ]
        }
      ]
    },
    {
      "cell_type": "code",
      "source": [
        "#27. Write a code to create a list of 5 random numbers between 1 and 100, sort it in ascending order, and print the result.(replaced)\n",
        "l1=[25,89,0,55,4]\n",
        "print(sorted(l1))"
      ],
      "metadata": {
        "colab": {
          "base_uri": "https://localhost:8080/"
        },
        "id": "V6Cwbiilus4V",
        "outputId": "1c94c2d9-785a-43f7-a3fe-ec367d3b89f3"
      },
      "execution_count": null,
      "outputs": [
        {
          "output_type": "stream",
          "name": "stdout",
          "text": [
            "[0, 4, 25, 55, 89]\n"
          ]
        }
      ]
    },
    {
      "cell_type": "code",
      "source": [
        "#28. Write a code to create a list with strings and print the element at the third index\n",
        "l2=['hey','wait','update','bye']\n",
        "print(l2[3])"
      ],
      "metadata": {
        "colab": {
          "base_uri": "https://localhost:8080/"
        },
        "id": "yzWiM7JKvm8j",
        "outputId": "32fd747d-5933-4e82-eeee-b0fe603305da"
      },
      "execution_count": null,
      "outputs": [
        {
          "output_type": "stream",
          "name": "stdout",
          "text": [
            "bye\n"
          ]
        }
      ]
    },
    {
      "cell_type": "code",
      "source": [
        "#29. Write a code to combine two dictionaries into one and print the result.\n",
        "d1={'name':'jake','level':8}\n",
        "d2={'adress':'Bombay','car':'ford'}\n",
        "print(d1|d2)\n"
      ],
      "metadata": {
        "colab": {
          "base_uri": "https://localhost:8080/"
        },
        "id": "OwvaFDzSv5UZ",
        "outputId": "cfd679c8-8b9a-4d3a-9411-1683261fd0bd"
      },
      "execution_count": null,
      "outputs": [
        {
          "output_type": "stream",
          "name": "stdout",
          "text": [
            "{'name': 'jake', 'level': 8, 'adress': 'Bombay', 'car': 'ford'}\n"
          ]
        }
      ]
    },
    {
      "cell_type": "code",
      "source": [
        "#30. Write a code to convert a list of strings into a set.\n",
        "shopping_list=['banana','milk','oil','rice']\n",
        "shopping_set=set(shopping_list)\n",
        "print(shopping_set)"
      ],
      "metadata": {
        "colab": {
          "base_uri": "https://localhost:8080/"
        },
        "id": "vwKzjc0AxRP0",
        "outputId": "e9e84631-1e32-4ec2-b173-9b665f97bf71"
      },
      "execution_count": null,
      "outputs": [
        {
          "output_type": "stream",
          "name": "stdout",
          "text": [
            "{'milk', 'banana', 'oil', 'rice'}\n"
          ]
        }
      ]
    },
    {
      "cell_type": "code",
      "source": [],
      "metadata": {
        "id": "tgE4Dc13yKrQ"
      },
      "execution_count": null,
      "outputs": []
    }
  ]
}